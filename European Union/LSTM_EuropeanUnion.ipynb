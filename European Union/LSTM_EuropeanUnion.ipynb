{
 "cells": [
  {
   "cell_type": "code",
   "execution_count": 1,
   "metadata": {},
   "outputs": [
    {
     "name": "stdout",
     "output_type": "stream",
     "text": [
      "   Unnamed: 0  Time Serie AUSTRALIA - AUSTRALIAN DOLLAR/US$ BRAZIL - REAL/US$  \\\n",
      "0           0  2006-01-02                                ND                ND   \n",
      "1           1  2006-01-03                            1.3552            2.3362   \n",
      "2           2  2006-01-04                            1.3396             2.302   \n",
      "3           3  2006-01-05                            1.3365             2.281   \n",
      "4           4  2006-01-06                            1.3284            2.2875   \n",
      "\n",
      "  CANADA - CANADIAN DOLLAR/US$ CHINA - RENMINBI/US$  \\\n",
      "0                           ND                   ND   \n",
      "1                       1.1571                8.069   \n",
      "2                       1.1515               8.0702   \n",
      "3                       1.1619               8.0678   \n",
      "4                        1.165               8.0663   \n",
      "\n",
      "  DENMARK - DANISH KRONE/US$ EURO AREA - EURO/US$  \\\n",
      "0                         ND                   ND   \n",
      "1                      6.231               0.8348   \n",
      "2                     6.1713               0.8271   \n",
      "3                     6.1643               0.8264   \n",
      "4                     6.1375               0.8232   \n",
      "\n",
      "  GREAT BRITAIN - GREAT BRITAIN POUND/US$ HONG KONG - HONG KONG DOLLAR/US$  \\\n",
      "0                                      ND                               ND   \n",
      "1                                  0.5747                           7.7538   \n",
      "2                                  0.5686                           7.7533   \n",
      "3                                  0.5693                           7.7534   \n",
      "4                                  0.5651                           7.7531   \n",
      "\n",
      "   ... MALAYSIA - RINGGIT/US$ MEXICO - MEXICAN PESO/US$  \\\n",
      "0  ...                     ND                        ND   \n",
      "1  ...                 3.7789                   10.6449   \n",
      "2  ...                 3.7748                   10.5872   \n",
      "3  ...                 3.7659                    10.591   \n",
      "4  ...                 3.7555                    10.562   \n",
      "\n",
      "  NEW ZEALAND - NEW ZELAND DOLLAR/US$ NORWAY - NORWEGIAN KRONE/US$  \\\n",
      "0                                  ND                           ND   \n",
      "1                              1.4677                       6.6424   \n",
      "2                              1.4529                       6.5522   \n",
      "3                              1.4545                       6.5583   \n",
      "4                              1.4474                       6.5242   \n",
      "\n",
      "  SINGAPORE - SINGAPORE DOLLAR/US$ SOUTH AFRICA - RAND/US$ SWEDEN - KRONA/US$  \\\n",
      "0                               ND                      ND                 ND   \n",
      "1                           1.6521                  6.2329             7.8097   \n",
      "2                            1.645                  6.1625             7.7249   \n",
      "3                           1.6466                   6.148             7.7092   \n",
      "4                           1.6384                   6.087             7.6629   \n",
      "\n",
      "  SWITZERLAND - FRANC/US$ TAIWAN - NEW TAIWAN DOLLAR/US$ THAILAND - BAHT/US$  \n",
      "0                      ND                             ND                  ND  \n",
      "1                  1.2938                          32.59               40.76  \n",
      "2                  1.2801                          32.29               40.43  \n",
      "3                   1.277                          31.96               40.26  \n",
      "4                  1.2695                          32.15               39.83  \n",
      "\n",
      "[5 rows x 22 columns]\n",
      "(3914, 22)\n",
      "Index(['Unnamed: 0', 'Time Serie', 'AUSTRALIA - AUSTRALIAN DOLLAR/US$',\n",
      "       'BRAZIL - REAL/US$', 'CANADA - CANADIAN DOLLAR/US$',\n",
      "       'CHINA - RENMINBI/US$', 'DENMARK - DANISH KRONE/US$',\n",
      "       'EURO AREA - EURO/US$', 'GREAT BRITAIN - GREAT BRITAIN POUND/US$',\n",
      "       'HONG KONG - HONG KONG DOLLAR/US$', 'INDIA - INDIAN RUPEE/US$',\n",
      "       'JAPAN - YEN/US$', 'MALAYSIA - RINGGIT/US$',\n",
      "       'MEXICO - MEXICAN PESO/US$', 'NEW ZEALAND - NEW ZELAND DOLLAR/US$',\n",
      "       'NORWAY - NORWEGIAN KRONE/US$', 'SINGAPORE - SINGAPORE DOLLAR/US$',\n",
      "       'SOUTH AFRICA - RAND/US$', 'SWEDEN - KRONA/US$',\n",
      "       'SWITZERLAND - FRANC/US$', 'TAIWAN - NEW TAIWAN DOLLAR/US$',\n",
      "       'THAILAND - BAHT/US$'],\n",
      "      dtype='object')\n",
      "Number of NaN values in a column:  154\n"
     ]
    },
    {
     "data": {
      "text/plain": [
       "<Figure size 800x400 with 1 Axes>"
      ]
     },
     "metadata": {},
     "output_type": "display_data"
    },
    {
     "data": {
      "text/plain": [
       "<Figure size 2000x1000 with 1 Axes>"
      ]
     },
     "metadata": {},
     "output_type": "display_data"
    },
    {
     "name": "stdout",
     "output_type": "stream",
     "text": [
      "Shape of Interest Long Cary trade: (60, 1)\n",
      "Shape of Australian exchange rate: (60,)\n",
      "[1.423326   1.42976055 1.31072135 1.43780374 1.43016271 1.44102102\n",
      " 1.3915554  1.40563098 1.4193044  1.36662151 1.37506686 1.40603314]\n",
      "\n",
      "R-squared of training data is:  0.3866049593174953\n",
      "R-squared of testing data is:  0.3875748917835704\n",
      "[1.30374463 1.30194968 1.30553958 1.29432114 1.29162871 1.29970599\n",
      " 1.30105221 1.29611609 1.30464211 1.31092444 1.30733454 1.30778327\n",
      " 1.32169415 1.31586056 1.32124541 1.33560503 1.3365025  1.33874619\n",
      " 1.34682347 1.35131085 1.35714445 1.35490076 1.35669571 1.36611921\n",
      " 1.37733765 1.3719528  1.37509396 1.36791416 1.38003008 1.38676115\n",
      " 1.38003008 1.39394096 1.39349222 1.39573591 1.40695436 1.41144174\n",
      " 1.41323669 1.4145829  1.43298116 1.4311862  1.42669883 1.43836601\n",
      " 1.44016096 1.45093067 1.45093067 1.44734077 1.44554582 1.44554582\n",
      " 1.44734077 1.42983999 1.43881475 1.42983999 1.41054426 1.41189047\n",
      " 1.40291572 1.39977455 1.39977455 1.39932581 1.39753086 1.39753086]\n",
      "\n",
      "R-squared of the entire dataset is:  0.42890421458032557\n"
     ]
    },
    {
     "data": {
      "text/plain": [
       "<Figure size 2000x1500 with 12 Axes>"
      ]
     },
     "metadata": {},
     "output_type": "display_data"
    },
    {
     "data": {
      "text/plain": [
       "<Figure size 1200x600 with 1 Axes>"
      ]
     },
     "metadata": {},
     "output_type": "display_data"
    },
    {
     "name": "stdout",
     "output_type": "stream",
     "text": [
      "         Date     AUS_GDP  Unnamed: 2  Unnamed: 3\n",
      "0  2016-01-01   99.948958         NaN         NaN\n",
      "1  2016-02-01   99.983901         NaN         NaN\n",
      "2  2016-03-01  100.000644         NaN         NaN\n",
      "3  2016-04-01   99.995562         NaN         NaN\n",
      "4  2016-05-01   99.968890         NaN         NaN\n",
      "         Date    USA_GDP\n",
      "0  2016-01-01  99.956760\n",
      "1  2016-02-01  99.909095\n",
      "2  2016-03-01  99.863858\n",
      "3  2016-04-01  99.822069\n",
      "4  2016-05-01  99.787155\n",
      "Shape of GDP(Australia): (60, 4)\n",
      "Shape of GDP(USA): (60, 2)\n",
      "['-0.0078', '0.0748', '0.1368', '0.1735', '0.1817', '0.1647', '0.1389', '0.1233', '0.1295', '0.1509', '0.1737', '0.1871', '0.1931', '0.1994', '0.2130', '0.2339', '0.2567', '0.2729', '0.2717', '0.2443', '0.1897', '0.1214', '0.0580', '0.0147', '-0.0058', '-0.0077', '0.0012', '0.0120', '0.0164', '0.0086', '-0.0128', '-0.0468', '-0.0907', '-0.1406', '-0.1920', '-0.2408', '-0.2836', '-0.3179', '-0.3421', '-0.3570', '-0.3651', '-0.3703', '-0.3783', '-0.3950', '-0.4233', '-0.4610', '-0.5019', '-0.5369', '-0.5548', '-0.5424', '2.9255', '2.8649', '2.8767', '1.4896', '0.1013', '-1.2981', '-0.4232', '0.4606', '1.2826', '1.0980']\n",
      "(60, 4)\n",
      "R-squared after adding GDP growth rate: 0.5488133345527831\n"
     ]
    },
    {
     "data": {
      "text/plain": [
       "<Figure size 1200x600 with 1 Axes>"
      ]
     },
     "metadata": {},
     "output_type": "display_data"
    },
    {
     "name": "stdout",
     "output_type": "stream",
     "text": [
      "['1.2434', '0.8174', '0.6723', '0.5602', '0.9195', '0.7664', '0.8728', '0.6875', '0.6245', '0.6721', '1.0626', '1.1335', '1.0092', '1.2859', '1.4873', '1.2368', '1.1398', '1.2610', '1.2657', '1.0890', '1.1210', '1.1504', '1.2213', '1.5065', '1.5355', '1.5095', '1.5550', '1.5592', '1.5860', '1.2775', '1.4593', '1.4399', '1.2869', '1.1798', '1.3085', '1.1049', '1.0814', '1.2078', '1.3358', '1.6430', '1.5994', '1.6015', '1.5285', '1.5238', '1.6609', '1.6710', '1.5572', '1.4463', '1.8117', '1.6337', '0.8718', '-8.3257', '-6.1814', '-3.6465', '-2.7522', '-1.6419', '-1.0454', '0.0360', '0.1329', '-0.1221']\n",
      "R-squared after adding Unemployment rate: 0.5702500716526582\n"
     ]
    },
    {
     "data": {
      "text/plain": [
       "<Figure size 1200x600 with 1 Axes>"
      ]
     },
     "metadata": {},
     "output_type": "display_data"
    },
    {
     "name": "stdout",
     "output_type": "stream",
     "text": [
      "R-squared for Polynomial model with the same varibles: 0.994683986175293\n"
     ]
    },
    {
     "data": {
      "text/plain": [
       "<Figure size 1400x600 with 1 Axes>"
      ]
     },
     "metadata": {},
     "output_type": "display_data"
    },
    {
     "data": {
      "text/plain": [
       "<Figure size 1000x500 with 2 Axes>"
      ]
     },
     "metadata": {},
     "output_type": "display_data"
    },
    {
     "name": "stdout",
     "output_type": "stream",
     "text": [
      "Ridge Regression score: 0.5702500715057346\n",
      "Lasso Regression Score: 0.5697453886149574\n"
     ]
    },
    {
     "data": {
      "text/plain": [
       "<Figure size 1400x500 with 1 Axes>"
      ]
     },
     "metadata": {},
     "output_type": "display_data"
    }
   ],
   "source": [
    "%run Machine-Learning-Models-checkpoint.ipynb"
   ]
  },
  {
   "cell_type": "code",
   "execution_count": 2,
   "metadata": {},
   "outputs": [
    {
     "name": "stderr",
     "output_type": "stream",
     "text": [
      "Using TensorFlow backend.\n"
     ]
    }
   ],
   "source": [
    "import pandas as pd\n",
    "import numpy as np\n",
    "import matplotlib.pyplot as plt\n",
    "import tensorflow as tf\n",
    "import keras\n",
    "from keras.models import Sequential\n",
    "from keras.layers import Dense, LSTM"
   ]
  },
  {
   "cell_type": "code",
   "execution_count": 3,
   "metadata": {},
   "outputs": [
    {
     "data": {
      "text/plain": [
       "(3760, 24)"
      ]
     },
     "execution_count": 3,
     "metadata": {},
     "output_type": "execute_result"
    }
   ],
   "source": [
    "df.shape"
   ]
  },
  {
   "cell_type": "code",
   "execution_count": 4,
   "metadata": {},
   "outputs": [
    {
     "data": {
      "text/html": [
       "<div>\n",
       "<style scoped>\n",
       "    .dataframe tbody tr th:only-of-type {\n",
       "        vertical-align: middle;\n",
       "    }\n",
       "\n",
       "    .dataframe tbody tr th {\n",
       "        vertical-align: top;\n",
       "    }\n",
       "\n",
       "    .dataframe thead th {\n",
       "        text-align: right;\n",
       "    }\n",
       "</style>\n",
       "<table border=\"1\" class=\"dataframe\">\n",
       "  <thead>\n",
       "    <tr style=\"text-align: right;\">\n",
       "      <th></th>\n",
       "      <th>Time Series</th>\n",
       "      <th>AUD_USD</th>\n",
       "      <th>BRL_USD</th>\n",
       "      <th>CAD_USD</th>\n",
       "      <th>CNY_USD</th>\n",
       "      <th>DKK_USD</th>\n",
       "      <th>EUR_USD</th>\n",
       "      <th>GBP_USD</th>\n",
       "      <th>HKD_USD</th>\n",
       "      <th>INR_USD</th>\n",
       "      <th>...</th>\n",
       "      <th>NOK_USD</th>\n",
       "      <th>SGD_USD</th>\n",
       "      <th>ZAR_USD</th>\n",
       "      <th>SEK_USD</th>\n",
       "      <th>CHF_USD</th>\n",
       "      <th>TWD_USD</th>\n",
       "      <th>THB_USD</th>\n",
       "      <th>month</th>\n",
       "      <th>year</th>\n",
       "      <th>month_year</th>\n",
       "    </tr>\n",
       "  </thead>\n",
       "  <tbody>\n",
       "    <tr>\n",
       "      <td>0</td>\n",
       "      <td>2006-01-03</td>\n",
       "      <td>1.3552</td>\n",
       "      <td>2.3362</td>\n",
       "      <td>1.1571</td>\n",
       "      <td>8.0690</td>\n",
       "      <td>6.2310</td>\n",
       "      <td>0.8348</td>\n",
       "      <td>0.5747</td>\n",
       "      <td>7.7538</td>\n",
       "      <td>44.936</td>\n",
       "      <td>...</td>\n",
       "      <td>6.6424</td>\n",
       "      <td>1.6521</td>\n",
       "      <td>6.2329</td>\n",
       "      <td>7.8097</td>\n",
       "      <td>1.2938</td>\n",
       "      <td>32.59</td>\n",
       "      <td>40.76</td>\n",
       "      <td>1</td>\n",
       "      <td>2006</td>\n",
       "      <td>2006-01</td>\n",
       "    </tr>\n",
       "    <tr>\n",
       "      <td>1</td>\n",
       "      <td>2006-01-04</td>\n",
       "      <td>1.3396</td>\n",
       "      <td>2.3020</td>\n",
       "      <td>1.1515</td>\n",
       "      <td>8.0702</td>\n",
       "      <td>6.1713</td>\n",
       "      <td>0.8271</td>\n",
       "      <td>0.5686</td>\n",
       "      <td>7.7533</td>\n",
       "      <td>44.730</td>\n",
       "      <td>...</td>\n",
       "      <td>6.5522</td>\n",
       "      <td>1.6450</td>\n",
       "      <td>6.1625</td>\n",
       "      <td>7.7249</td>\n",
       "      <td>1.2801</td>\n",
       "      <td>32.29</td>\n",
       "      <td>40.43</td>\n",
       "      <td>1</td>\n",
       "      <td>2006</td>\n",
       "      <td>2006-01</td>\n",
       "    </tr>\n",
       "    <tr>\n",
       "      <td>2</td>\n",
       "      <td>2006-01-05</td>\n",
       "      <td>1.3365</td>\n",
       "      <td>2.2810</td>\n",
       "      <td>1.1619</td>\n",
       "      <td>8.0678</td>\n",
       "      <td>6.1643</td>\n",
       "      <td>0.8264</td>\n",
       "      <td>0.5693</td>\n",
       "      <td>7.7534</td>\n",
       "      <td>44.600</td>\n",
       "      <td>...</td>\n",
       "      <td>6.5583</td>\n",
       "      <td>1.6466</td>\n",
       "      <td>6.1480</td>\n",
       "      <td>7.7092</td>\n",
       "      <td>1.2770</td>\n",
       "      <td>31.96</td>\n",
       "      <td>40.26</td>\n",
       "      <td>1</td>\n",
       "      <td>2006</td>\n",
       "      <td>2006-01</td>\n",
       "    </tr>\n",
       "    <tr>\n",
       "      <td>3</td>\n",
       "      <td>2006-01-06</td>\n",
       "      <td>1.3284</td>\n",
       "      <td>2.2875</td>\n",
       "      <td>1.1650</td>\n",
       "      <td>8.0663</td>\n",
       "      <td>6.1375</td>\n",
       "      <td>0.8232</td>\n",
       "      <td>0.5651</td>\n",
       "      <td>7.7531</td>\n",
       "      <td>44.320</td>\n",
       "      <td>...</td>\n",
       "      <td>6.5242</td>\n",
       "      <td>1.6384</td>\n",
       "      <td>6.0870</td>\n",
       "      <td>7.6629</td>\n",
       "      <td>1.2695</td>\n",
       "      <td>32.15</td>\n",
       "      <td>39.83</td>\n",
       "      <td>1</td>\n",
       "      <td>2006</td>\n",
       "      <td>2006-01</td>\n",
       "    </tr>\n",
       "    <tr>\n",
       "      <td>4</td>\n",
       "      <td>2006-01-09</td>\n",
       "      <td>1.3303</td>\n",
       "      <td>2.2600</td>\n",
       "      <td>1.1691</td>\n",
       "      <td>8.0665</td>\n",
       "      <td>6.1814</td>\n",
       "      <td>0.8289</td>\n",
       "      <td>0.5667</td>\n",
       "      <td>7.7507</td>\n",
       "      <td>44.200</td>\n",
       "      <td>...</td>\n",
       "      <td>6.5742</td>\n",
       "      <td>1.6362</td>\n",
       "      <td>6.0750</td>\n",
       "      <td>7.7165</td>\n",
       "      <td>1.2794</td>\n",
       "      <td>31.90</td>\n",
       "      <td>39.73</td>\n",
       "      <td>1</td>\n",
       "      <td>2006</td>\n",
       "      <td>2006-01</td>\n",
       "    </tr>\n",
       "  </tbody>\n",
       "</table>\n",
       "<p>5 rows × 24 columns</p>\n",
       "</div>"
      ],
      "text/plain": [
       "  Time Series  AUD_USD  BRL_USD  CAD_USD  CNY_USD  DKK_USD  EUR_USD  GBP_USD  \\\n",
       "0  2006-01-03   1.3552   2.3362   1.1571   8.0690   6.2310   0.8348   0.5747   \n",
       "1  2006-01-04   1.3396   2.3020   1.1515   8.0702   6.1713   0.8271   0.5686   \n",
       "2  2006-01-05   1.3365   2.2810   1.1619   8.0678   6.1643   0.8264   0.5693   \n",
       "3  2006-01-06   1.3284   2.2875   1.1650   8.0663   6.1375   0.8232   0.5651   \n",
       "4  2006-01-09   1.3303   2.2600   1.1691   8.0665   6.1814   0.8289   0.5667   \n",
       "\n",
       "   HKD_USD  INR_USD  ...  NOK_USD  SGD_USD  ZAR_USD  SEK_USD  CHF_USD  \\\n",
       "0   7.7538   44.936  ...   6.6424   1.6521   6.2329   7.8097   1.2938   \n",
       "1   7.7533   44.730  ...   6.5522   1.6450   6.1625   7.7249   1.2801   \n",
       "2   7.7534   44.600  ...   6.5583   1.6466   6.1480   7.7092   1.2770   \n",
       "3   7.7531   44.320  ...   6.5242   1.6384   6.0870   7.6629   1.2695   \n",
       "4   7.7507   44.200  ...   6.5742   1.6362   6.0750   7.7165   1.2794   \n",
       "\n",
       "   TWD_USD  THB_USD  month  year  month_year  \n",
       "0    32.59    40.76      1  2006     2006-01  \n",
       "1    32.29    40.43      1  2006     2006-01  \n",
       "2    31.96    40.26      1  2006     2006-01  \n",
       "3    32.15    39.83      1  2006     2006-01  \n",
       "4    31.90    39.73      1  2006     2006-01  \n",
       "\n",
       "[5 rows x 24 columns]"
      ]
     },
     "execution_count": 4,
     "metadata": {},
     "output_type": "execute_result"
    }
   ],
   "source": [
    "df.head()"
   ]
  },
  {
   "cell_type": "code",
   "execution_count": 5,
   "metadata": {},
   "outputs": [
    {
     "data": {
      "text/plain": [
       "0       0.8348\n",
       "1       0.8271\n",
       "2       0.8264\n",
       "3       0.8232\n",
       "4       0.8289\n",
       "         ...  \n",
       "3755    0.8205\n",
       "3756    0.8204\n",
       "3757    0.8163\n",
       "3758    0.8138\n",
       "3759    0.8157\n",
       "Name: EUR_USD, Length: 3760, dtype: float64"
      ]
     },
     "execution_count": 5,
     "metadata": {},
     "output_type": "execute_result"
    }
   ],
   "source": [
    "df_eur = df['EUR_USD']\n",
    "df_eur"
   ]
  },
  {
   "cell_type": "code",
   "execution_count": 6,
   "metadata": {},
   "outputs": [
    {
     "name": "stdout",
     "output_type": "stream",
     "text": [
      "[[0.0330909 ]\n",
      " [0.03187872]\n",
      " [0.03176852]\n",
      " ...\n",
      " [0.03017852]\n",
      " [0.02978496]\n",
      " [0.03008407]]\n"
     ]
    }
   ],
   "source": [
    "#preprocessig the EUR data for LSTM\n",
    "df_eur = np.array(df_eur).reshape(-1,1)\n",
    "\n",
    "from sklearn.preprocessing import MinMaxScaler\n",
    "scaler = MinMaxScaler()\n",
    "\n",
    "df_eur = scaler.fit_transform(df_eur)\n",
    "\n",
    "print(df_eur)"
   ]
  },
  {
   "cell_type": "code",
   "execution_count": 7,
   "metadata": {},
   "outputs": [
    {
     "name": "stdout",
     "output_type": "stream",
     "text": [
      "(3008, 1)\n",
      "(752, 1)\n"
     ]
    }
   ],
   "source": [
    "#Splitting the EUR data into training and test data\n",
    "eur_train = df_eur[:3008]\n",
    "eur_test = df_eur[3008:]\n",
    "\n",
    "print(eur_train.shape)\n",
    "print(eur_test.shape)"
   ]
  },
  {
   "cell_type": "code",
   "execution_count": 8,
   "metadata": {},
   "outputs": [
    {
     "name": "stdout",
     "output_type": "stream",
     "text": [
      "(3006, 1)\n",
      "(3006,)\n"
     ]
    }
   ],
   "source": [
    "def get_data_eur(data_eur, look_back):\n",
    "    data_eur_x, data_eur_y = [],[]\n",
    "    for i in range(len(data_eur)-look_back-1):\n",
    "        data_eur_x.append(data_eur[i:(i+look_back),0])\n",
    "        data_eur_y.append(data_eur[i+look_back,0])\n",
    "        \n",
    "    return np.array(data_eur_x) , np.array(data_eur_y)\n",
    "\n",
    "look_back = 1\n",
    "\n",
    "eur_x_train , eur_y_train = get_data_eur(eur_train, look_back)\n",
    "\n",
    "print(eur_x_train.shape)\n",
    "print(eur_y_train.shape)"
   ]
  },
  {
   "cell_type": "code",
   "execution_count": 9,
   "metadata": {},
   "outputs": [
    {
     "name": "stdout",
     "output_type": "stream",
     "text": [
      "(750, 1)\n",
      "(750,)\n"
     ]
    }
   ],
   "source": [
    "eur_x_test , eur_y_test = get_data_eur(eur_test, look_back)\n",
    "\n",
    "print(eur_x_test.shape)\n",
    "print(eur_y_test.shape)"
   ]
  },
  {
   "cell_type": "code",
   "execution_count": 10,
   "metadata": {},
   "outputs": [
    {
     "name": "stdout",
     "output_type": "stream",
     "text": [
      "(3006, 1, 1)\n",
      "(750, 1, 1)\n"
     ]
    }
   ],
   "source": [
    "#Processing train and test sets of EUR for LSTM model\n",
    "\n",
    "eur_x_train = eur_x_train.reshape(eur_x_train.shape[0],eur_x_train.shape[1], 1)\n",
    "eur_x_test = eur_x_test.reshape(eur_x_test.shape[0],eur_x_test.shape[1], 1)\n",
    "\n",
    "print(eur_x_train.shape)\n",
    "print(eur_x_test.shape) "
   ]
  },
  {
   "cell_type": "code",
   "execution_count": 11,
   "metadata": {},
   "outputs": [
    {
     "name": "stdout",
     "output_type": "stream",
     "text": [
      "Model: \"sequential_1\"\n",
      "_________________________________________________________________\n",
      "Layer (type)                 Output Shape              Param #   \n",
      "=================================================================\n",
      "lstm_1 (LSTM)                (None, 100)               40800     \n",
      "_________________________________________________________________\n",
      "dense_1 (Dense)              (None, 1)                 101       \n",
      "=================================================================\n",
      "Total params: 40,901\n",
      "Trainable params: 40,901\n",
      "Non-trainable params: 0\n",
      "_________________________________________________________________\n"
     ]
    }
   ],
   "source": [
    "#Defining the LSTM model for EUR\n",
    "n_features_eur = eur_x_train.shape[1]\n",
    "model_eur=Sequential()\n",
    "model_eur.add(LSTM(100,activation='relu',input_shape=(1,1)))\n",
    "model_eur.add(Dense(n_features_eur))\n",
    "\n",
    "#Model summary for EUR\n",
    "model_eur.summary()"
   ]
  },
  {
   "cell_type": "code",
   "execution_count": 12,
   "metadata": {},
   "outputs": [
    {
     "name": "stdout",
     "output_type": "stream",
     "text": [
      "Epoch 1/5\n",
      "3006/3006 [==============================] - 6s 2ms/step - loss: 3.5312e-05\n",
      "Epoch 2/5\n",
      "3006/3006 [==============================] - 5s 2ms/step - loss: 1.2804e-06\n",
      "Epoch 3/5\n",
      "3006/3006 [==============================] - 5s 2ms/step - loss: 1.4570e-06\n",
      "Epoch 4/5\n",
      "3006/3006 [==============================] - 5s 2ms/step - loss: 1.4301e-06A: 0s - loss: 1.4258e-\n",
      "Epoch 5/5\n",
      "3006/3006 [==============================] - 5s 2ms/step - loss: 1.3838e-06\n"
     ]
    },
    {
     "data": {
      "text/plain": [
       "<keras.callbacks.callbacks.History at 0x2db5066a588>"
      ]
     },
     "execution_count": 12,
     "metadata": {},
     "output_type": "execute_result"
    }
   ],
   "source": [
    "#Compiling\n",
    "model_eur.compile(optimizer='adam', loss = 'mse')\n",
    "\n",
    "#Training\n",
    "model_eur.fit(eur_x_train, eur_y_train, epochs = 5, batch_size=1)"
   ]
  },
  {
   "cell_type": "code",
   "execution_count": 13,
   "metadata": {},
   "outputs": [
    {
     "name": "stdout",
     "output_type": "stream",
     "text": [
      "[[0.8417743 ]\n",
      " [0.83755434]\n",
      " [0.8381571 ]\n",
      " [0.8405685 ]\n",
      " [0.8385589 ]\n",
      " [0.8360474 ]\n",
      " [0.83253205]\n",
      " [0.8276117 ]\n",
      " [0.8257042 ]\n",
      " [0.8271097 ]]\n"
     ]
    }
   ],
   "source": [
    "#Prediction using the trained model for EUR\n",
    "scaler.scale_\n",
    "\n",
    "eur_y_pred = model_eur.predict(eur_x_test)\n",
    "eur_y_pred = scaler.inverse_transform(eur_y_pred)\n",
    "print(eur_y_pred[:10])"
   ]
  },
  {
   "cell_type": "code",
   "execution_count": 14,
   "metadata": {},
   "outputs": [
    {
     "name": "stdout",
     "output_type": "stream",
     "text": [
      "[[0.8417]\n",
      " [0.8423]\n",
      " [0.8447]\n",
      " [0.8427]\n",
      " [0.8402]\n",
      " [0.8367]\n",
      " [0.8318]\n",
      " [0.8299]\n",
      " [0.8313]\n",
      " [0.8289]]\n"
     ]
    }
   ],
   "source": [
    "#Processing test shape for EUR\n",
    "eur_y_test = np.array(eur_y_test).reshape(-1,1)\n",
    "eur_y_test = scaler.inverse_transform(eur_y_test)\n",
    "print(eur_y_test[:10])"
   ]
  },
  {
   "cell_type": "code",
   "execution_count": 15,
   "metadata": {},
   "outputs": [
    {
     "data": {
      "image/png": "[encoded data removed]",
      "text/plain": [
       "<Figure size 720x360 with 1 Axes>"
      ]
     },
     "metadata": {
      "needs_background": "light"
     },
     "output_type": "display_data"
    }
   ],
   "source": [
    "#Visualizing the results\n",
    "plt.figure(figsize=(10,5))\n",
    "plt.title('Foreign Exchange Rate of European Union')\n",
    "plt.plot(eur_y_test , label = 'Actual', color = 'g')\n",
    "plt.plot(eur_y_pred , label = 'Predicted', color = 'r')\n",
    "plt.legend()\n",
    "plt.grid()"
   ]
  },
  {
   "cell_type": "code",
   "execution_count": 16,
   "metadata": {},
   "outputs": [],
   "source": [
    "def forecast_accuracy(actual, forecast):\n",
    "    \n",
    "    mape = np.mean(np.abs(forecast-actual)/np.abs(actual)) #MAPE\n",
    "    me = np.mean(forecast-actual) #ME\n",
    "    mae = np.mean(np.abs(forecast-actual)) #MAE\n",
    "    mpe = np.mean((forecast-actual)/actual) #MPE\n",
    "    rmse = np.mean((forecast-actual)**2)**.5 #RMSE\n",
    "    mins = np.amin(np.hstack([forecast[:,None], actual[:,None]]),axis=1)\n",
    "    maxs = np.amax(np.hstack([forecast[:,None], actual[:,None]]), axis=1)\n",
    "    minmax = 1 - np.mean(mins/maxs)   # minmax\n",
    "    accuracy = (1-mape)*100\n",
    "    return ({'mape':mape, 'me':me, 'mae':mae, 'mpe':mpe, 'rmse':rmse, 'minmax':minmax, 'Accuracy':accuracy})"
   ]
  },
  {
   "cell_type": "code",
   "execution_count": 17,
   "metadata": {},
   "outputs": [
    {
     "data": {
      "text/html": [
       "<div>\n",
       "<style scoped>\n",
       "    .dataframe tbody tr th:only-of-type {\n",
       "        vertical-align: middle;\n",
       "    }\n",
       "\n",
       "    .dataframe tbody tr th {\n",
       "        vertical-align: top;\n",
       "    }\n",
       "\n",
       "    .dataframe thead th {\n",
       "        text-align: right;\n",
       "    }\n",
       "</style>\n",
       "<table border=\"1\" class=\"dataframe\">\n",
       "  <thead>\n",
       "    <tr style=\"text-align: right;\">\n",
       "      <th></th>\n",
       "      <th>Values</th>\n",
       "    </tr>\n",
       "  </thead>\n",
       "  <tbody>\n",
       "    <tr>\n",
       "      <td>mape</td>\n",
       "      <td>0.016321</td>\n",
       "    </tr>\n",
       "    <tr>\n",
       "      <td>me</td>\n",
       "      <td>-0.002675</td>\n",
       "    </tr>\n",
       "    <tr>\n",
       "      <td>mae</td>\n",
       "      <td>0.021815</td>\n",
       "    </tr>\n",
       "    <tr>\n",
       "      <td>mpe</td>\n",
       "      <td>0.004463</td>\n",
       "    </tr>\n",
       "    <tr>\n",
       "      <td>rmse</td>\n",
       "      <td>0.337359</td>\n",
       "    </tr>\n",
       "    <tr>\n",
       "      <td>minmax</td>\n",
       "      <td>0.007416</td>\n",
       "    </tr>\n",
       "    <tr>\n",
       "      <td>Accuracy</td>\n",
       "      <td>98.367929</td>\n",
       "    </tr>\n",
       "  </tbody>\n",
       "</table>\n",
       "</div>"
      ],
      "text/plain": [
       "             Values\n",
       "mape       0.016321\n",
       "me        -0.002675\n",
       "mae        0.021815\n",
       "mpe        0.004463\n",
       "rmse       0.337359\n",
       "minmax     0.007416\n",
       "Accuracy  98.367929"
      ]
     },
     "execution_count": 17,
     "metadata": {},
     "output_type": "execute_result"
    }
   ],
   "source": [
    "accuracy = forecast_accuracy(eur_y_test, eur_y_pred)\n",
    "accuracy_data = pd.DataFrame.from_dict(accuracy, orient='index', columns={'Values'})\n",
    "accuracy_data"
   ]
  },
  {
   "cell_type": "code",
   "execution_count": null,
   "metadata": {},
   "outputs": [],
   "source": []
  }
 ],
 "metadata": {
  "kernelspec": {
   "display_name": "Python 3",
   "language": "python",
   "name": "python3"
  },
  "language_info": {
   "codemirror_mode": {
    "name": "ipython",
    "version": 3
   },
   "file_extension": ".py",
   "mimetype": "text/x-python",
   "name": "python",
   "nbconvert_exporter": "python",
   "pygments_lexer": "ipython3",
   "version": "3.7.4"
  }
 },
 "nbformat": 4,
 "nbformat_minor": 2
}
