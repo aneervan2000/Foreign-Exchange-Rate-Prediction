{
 "cells": [
  {
   "cell_type": "code",
   "execution_count": 1,
   "metadata": {},
   "outputs": [
    {
     "name": "stdout",
     "output_type": "stream",
     "text": [
      "   Unnamed: 0  Time Serie AUSTRALIA - AUSTRALIAN DOLLAR/US$ BRAZIL - REAL/US$  \\\n",
      "0           0  2006-01-02                                ND                ND   \n",
      "1           1  2006-01-03                            1.3552            2.3362   \n",
      "2           2  2006-01-04                            1.3396             2.302   \n",
      "3           3  2006-01-05                            1.3365             2.281   \n",
      "4           4  2006-01-06                            1.3284            2.2875   \n",
      "\n",
      "  CANADA - CANADIAN DOLLAR/US$ CHINA - RENMINBI/US$  \\\n",
      "0                           ND                   ND   \n",
      "1                       1.1571                8.069   \n",
      "2                       1.1515               8.0702   \n",
      "3                       1.1619               8.0678   \n",
      "4                        1.165               8.0663   \n",
      "\n",
      "  DENMARK - DANISH KRONE/US$ EURO AREA - EURO/US$  \\\n",
      "0                         ND                   ND   \n",
      "1                      6.231               0.8348   \n",
      "2                     6.1713               0.8271   \n",
      "3                     6.1643               0.8264   \n",
      "4                     6.1375               0.8232   \n",
      "\n",
      "  GREAT BRITAIN - GREAT BRITAIN POUND/US$ HONG KONG - HONG KONG DOLLAR/US$  \\\n",
      "0                                      ND                               ND   \n",
      "1                                  0.5747                           7.7538   \n",
      "2                                  0.5686                           7.7533   \n",
      "3                                  0.5693                           7.7534   \n",
      "4                                  0.5651                           7.7531   \n",
      "\n",
      "   ... MALAYSIA - RINGGIT/US$ MEXICO - MEXICAN PESO/US$  \\\n",
      "0  ...                     ND                        ND   \n",
      "1  ...                 3.7789                   10.6449   \n",
      "2  ...                 3.7748                   10.5872   \n",
      "3  ...                 3.7659                    10.591   \n",
      "4  ...                 3.7555                    10.562   \n",
      "\n",
      "  NEW ZEALAND - NEW ZELAND DOLLAR/US$ NORWAY - NORWEGIAN KRONE/US$  \\\n",
      "0                                  ND                           ND   \n",
      "1                              1.4677                       6.6424   \n",
      "2                              1.4529                       6.5522   \n",
      "3                              1.4545                       6.5583   \n",
      "4                              1.4474                       6.5242   \n",
      "\n",
      "  SINGAPORE - SINGAPORE DOLLAR/US$ SOUTH AFRICA - RAND/US$ SWEDEN - KRONA/US$  \\\n",
      "0                               ND                      ND                 ND   \n",
      "1                           1.6521                  6.2329             7.8097   \n",
      "2                            1.645                  6.1625             7.7249   \n",
      "3                           1.6466                   6.148             7.7092   \n",
      "4                           1.6384                   6.087             7.6629   \n",
      "\n",
      "  SWITZERLAND - FRANC/US$ TAIWAN - NEW TAIWAN DOLLAR/US$ THAILAND - BAHT/US$  \n",
      "0                      ND                             ND                  ND  \n",
      "1                  1.2938                          32.59               40.76  \n",
      "2                  1.2801                          32.29               40.43  \n",
      "3                   1.277                          31.96               40.26  \n",
      "4                  1.2695                          32.15               39.83  \n",
      "\n",
      "[5 rows x 22 columns]\n",
      "(3914, 22)\n",
      "Index(['Unnamed: 0', 'Time Serie', 'AUSTRALIA - AUSTRALIAN DOLLAR/US$',\n",
      "       'BRAZIL - REAL/US$', 'CANADA - CANADIAN DOLLAR/US$',\n",
      "       'CHINA - RENMINBI/US$', 'DENMARK - DANISH KRONE/US$',\n",
      "       'EURO AREA - EURO/US$', 'GREAT BRITAIN - GREAT BRITAIN POUND/US$',\n",
      "       'HONG KONG - HONG KONG DOLLAR/US$', 'INDIA - INDIAN RUPEE/US$',\n",
      "       'JAPAN - YEN/US$', 'MALAYSIA - RINGGIT/US$',\n",
      "       'MEXICO - MEXICAN PESO/US$', 'NEW ZEALAND - NEW ZELAND DOLLAR/US$',\n",
      "       'NORWAY - NORWEGIAN KRONE/US$', 'SINGAPORE - SINGAPORE DOLLAR/US$',\n",
      "       'SOUTH AFRICA - RAND/US$', 'SWEDEN - KRONA/US$',\n",
      "       'SWITZERLAND - FRANC/US$', 'TAIWAN - NEW TAIWAN DOLLAR/US$',\n",
      "       'THAILAND - BAHT/US$'],\n",
      "      dtype='object')\n",
      "Number of NaN values in a column:  154\n"
     ]
    },
    {
     "data": {
      "text/plain": [
       "<Figure size 800x400 with 1 Axes>"
      ]
     },
     "metadata": {},
     "output_type": "display_data"
    },
    {
     "data": {
      "text/plain": [
       "<Figure size 2000x1000 with 1 Axes>"
      ]
     },
     "metadata": {},
     "output_type": "display_data"
    },
    {
     "name": "stdout",
     "output_type": "stream",
     "text": [
      "Shape of Interest Long Cary trade: (60, 1)\n",
      "Shape of Australian exchange rate: (60,)\n",
      "[1.423326   1.42976055 1.31072135 1.43780374 1.43016271 1.44102102\n",
      " 1.3915554  1.40563098 1.4193044  1.36662151 1.37506686 1.40603314]\n",
      "\n",
      "R-squared of training data is:  0.3866049593174953\n",
      "R-squared of testing data is:  0.3875748917835704\n",
      "[1.30374463 1.30194968 1.30553958 1.29432114 1.29162871 1.29970599\n",
      " 1.30105221 1.29611609 1.30464211 1.31092444 1.30733454 1.30778327\n",
      " 1.32169415 1.31586056 1.32124541 1.33560503 1.3365025  1.33874619\n",
      " 1.34682347 1.35131085 1.35714445 1.35490076 1.35669571 1.36611921\n",
      " 1.37733765 1.3719528  1.37509396 1.36791416 1.38003008 1.38676115\n",
      " 1.38003008 1.39394096 1.39349222 1.39573591 1.40695436 1.41144174\n",
      " 1.41323669 1.4145829  1.43298116 1.4311862  1.42669883 1.43836601\n",
      " 1.44016096 1.45093067 1.45093067 1.44734077 1.44554582 1.44554582\n",
      " 1.44734077 1.42983999 1.43881475 1.42983999 1.41054426 1.41189047\n",
      " 1.40291572 1.39977455 1.39977455 1.39932581 1.39753086 1.39753086]\n",
      "\n",
      "R-squared of the entire dataset is:  0.42890421458032557\n"
     ]
    },
    {
     "data": {
      "text/plain": [
       "<Figure size 2000x1500 with 12 Axes>"
      ]
     },
     "metadata": {},
     "output_type": "display_data"
    },
    {
     "data": {
      "text/plain": [
       "<Figure size 1200x600 with 1 Axes>"
      ]
     },
     "metadata": {},
     "output_type": "display_data"
    },
    {
     "name": "stdout",
     "output_type": "stream",
     "text": [
      "         Date     AUS_GDP  Unnamed: 2  Unnamed: 3\n",
      "0  2016-01-01   99.948958         NaN         NaN\n",
      "1  2016-02-01   99.983901         NaN         NaN\n",
      "2  2016-03-01  100.000644         NaN         NaN\n",
      "3  2016-04-01   99.995562         NaN         NaN\n",
      "4  2016-05-01   99.968890         NaN         NaN\n",
      "         Date    USA_GDP\n",
      "0  2016-01-01  99.956760\n",
      "1  2016-02-01  99.909095\n",
      "2  2016-03-01  99.863858\n",
      "3  2016-04-01  99.822069\n",
      "4  2016-05-01  99.787155\n",
      "Shape of GDP(Australia): (60, 4)\n",
      "Shape of GDP(USA): (60, 2)\n",
      "['-0.0078', '0.0748', '0.1368', '0.1735', '0.1817', '0.1647', '0.1389', '0.1233', '0.1295', '0.1509', '0.1737', '0.1871', '0.1931', '0.1994', '0.2130', '0.2339', '0.2567', '0.2729', '0.2717', '0.2443', '0.1897', '0.1214', '0.0580', '0.0147', '-0.0058', '-0.0077', '0.0012', '0.0120', '0.0164', '0.0086', '-0.0128', '-0.0468', '-0.0907', '-0.1406', '-0.1920', '-0.2408', '-0.2836', '-0.3179', '-0.3421', '-0.3570', '-0.3651', '-0.3703', '-0.3783', '-0.3950', '-0.4233', '-0.4610', '-0.5019', '-0.5369', '-0.5548', '-0.5424', '2.9255', '2.8649', '2.8767', '1.4896', '0.1013', '-1.2981', '-0.4232', '0.4606', '1.2826', '1.0980']\n",
      "(60, 4)\n",
      "R-squared after adding GDP growth rate: 0.5488133345527831\n"
     ]
    },
    {
     "data": {
      "text/plain": [
       "<Figure size 1200x600 with 1 Axes>"
      ]
     },
     "metadata": {},
     "output_type": "display_data"
    },
    {
     "name": "stdout",
     "output_type": "stream",
     "text": [
      "['1.2434', '0.8174', '0.6723', '0.5602', '0.9195', '0.7664', '0.8728', '0.6875', '0.6245', '0.6721', '1.0626', '1.1335', '1.0092', '1.2859', '1.4873', '1.2368', '1.1398', '1.2610', '1.2657', '1.0890', '1.1210', '1.1504', '1.2213', '1.5065', '1.5355', '1.5095', '1.5550', '1.5592', '1.5860', '1.2775', '1.4593', '1.4399', '1.2869', '1.1798', '1.3085', '1.1049', '1.0814', '1.2078', '1.3358', '1.6430', '1.5994', '1.6015', '1.5285', '1.5238', '1.6609', '1.6710', '1.5572', '1.4463', '1.8117', '1.6337', '0.8718', '-8.3257', '-6.1814', '-3.6465', '-2.7522', '-1.6419', '-1.0454', '0.0360', '0.1329', '-0.1221']\n",
      "R-squared after adding Unemployment rate: 0.5702500716526582\n"
     ]
    },
    {
     "data": {
      "text/plain": [
       "<Figure size 1200x600 with 1 Axes>"
      ]
     },
     "metadata": {},
     "output_type": "display_data"
    },
    {
     "name": "stdout",
     "output_type": "stream",
     "text": [
      "R-squared for Polynomial model with the same varibles: 0.994683986175293\n"
     ]
    },
    {
     "data": {
      "text/plain": [
       "<Figure size 1400x600 with 1 Axes>"
      ]
     },
     "metadata": {},
     "output_type": "display_data"
    },
    {
     "data": {
      "text/plain": [
       "<Figure size 1000x500 with 2 Axes>"
      ]
     },
     "metadata": {},
     "output_type": "display_data"
    },
    {
     "name": "stdout",
     "output_type": "stream",
     "text": [
      "Ridge Regression score: 0.5702500715057346\n",
      "Lasso Regression Score: 0.5697453886149574\n"
     ]
    },
    {
     "data": {
      "text/plain": [
       "<Figure size 1400x500 with 1 Axes>"
      ]
     },
     "metadata": {},
     "output_type": "display_data"
    },
    {
     "name": "stderr",
     "output_type": "stream",
     "text": [
      "Using TensorFlow backend.\n"
     ]
    },
    {
     "name": "stdout",
     "output_type": "stream",
     "text": [
      "[[0.54777615]\n",
      " [0.52871457]\n",
      " [0.52492669]\n",
      " ...\n",
      " [0.49706745]\n",
      " [0.4835044 ]\n",
      " [0.47372923]]\n",
      "(3008, 1)\n",
      "(752, 1)\n",
      "(3006, 1)\n",
      "(3006,)\n",
      "(750, 1)\n",
      "(750,)\n",
      "(3006, 1, 1)\n",
      "(750, 1, 1)\n",
      "Model: \"sequential_1\"\n",
      "_________________________________________________________________\n",
      "Layer (type)                 Output Shape              Param #   \n",
      "=================================================================\n",
      "lstm_1 (LSTM)                (None, 100)               40800     \n",
      "_________________________________________________________________\n",
      "dense_1 (Dense)              (None, 1)                 101       \n",
      "=================================================================\n",
      "Total params: 40,901\n",
      "Trainable params: 40,901\n",
      "Non-trainable params: 0\n",
      "_________________________________________________________________\n",
      "Epoch 1/5\n",
      "3006/3006 [==============================] - 6s 2ms/step - loss: 0.0057\n",
      "Epoch 2/5\n",
      "3006/3006 [==============================] - 6s 2ms/step - loss: 3.1330e-04\n",
      "Epoch 3/5\n",
      "3006/3006 [==============================] - 6s 2ms/step - loss: 2.5649e-04\n",
      "Epoch 4/5\n",
      "3006/3006 [==============================] - 6s 2ms/step - loss: 2.4991e-04\n",
      "Epoch 5/5\n",
      "3006/3006 [==============================] - 5s 2ms/step - loss: 2.4016e-04\n",
      "[[1.2998378]\n",
      " [1.2963672]\n",
      " [1.291314 ]\n",
      " [1.2896307]\n",
      " [1.2871563]\n",
      " [1.279938 ]\n",
      " [1.2764807]\n",
      " [1.2729272]\n",
      " [1.2714472]\n",
      " [1.2688831]]\n",
      "[[1.3033]\n",
      " [1.2982]\n",
      " [1.2965]\n",
      " [1.294 ]\n",
      " [1.2867]\n",
      " [1.2832]\n",
      " [1.2796]\n",
      " [1.2781]\n",
      " [1.2755]\n",
      " [1.2729]]\n"
     ]
    }
   ],
   "source": [
    "%run LSTM_Australia.ipynb"
   ]
  },
  {
   "cell_type": "code",
   "execution_count": 2,
   "metadata": {},
   "outputs": [
    {
     "name": "stdout",
     "output_type": "stream",
     "text": [
      "   Unnamed: 0 Time Series AUD_USD EUR_USD GBP_USD\n",
      "0         0.0    1/1/2021      ND      ND      ND\n",
      "1         1.0    1/4/2021  1.3021  0.8152  0.7364\n",
      "2         2.0    1/5/2021  1.2918   0.814  0.7348\n",
      "3         3.0    1/6/2021   1.284  0.8124  0.7355\n",
      "4         4.0    1/7/2021  1.2902  0.8151   0.737\n",
      "(262, 5)\n",
      "Index(['Unnamed: 0', 'Time Series', 'AUD_USD', 'EUR_USD', 'GBP_USD'], dtype='object')\n"
     ]
    }
   ],
   "source": [
    "dataset = pd.read_csv(\"FX_2021.csv\")\n",
    "df = dataset.copy()\n",
    "\n",
    "print(df.head())\n",
    "print(df.shape)\n",
    "print(df.columns)"
   ]
  },
  {
   "cell_type": "code",
   "execution_count": 3,
   "metadata": {},
   "outputs": [
    {
     "name": "stdout",
     "output_type": "stream",
     "text": [
      "(262, 4)\n"
     ]
    },
    {
     "data": {
      "text/html": [
       "<div>\n",
       "<style scoped>\n",
       "    .dataframe tbody tr th:only-of-type {\n",
       "        vertical-align: middle;\n",
       "    }\n",
       "\n",
       "    .dataframe tbody tr th {\n",
       "        vertical-align: top;\n",
       "    }\n",
       "\n",
       "    .dataframe thead th {\n",
       "        text-align: right;\n",
       "    }\n",
       "</style>\n",
       "<table border=\"1\" class=\"dataframe\">\n",
       "  <thead>\n",
       "    <tr style=\"text-align: right;\">\n",
       "      <th></th>\n",
       "      <th>Time Series</th>\n",
       "      <th>AUD_USD</th>\n",
       "      <th>EUR_USD</th>\n",
       "      <th>GBP_USD</th>\n",
       "    </tr>\n",
       "  </thead>\n",
       "  <tbody>\n",
       "    <tr>\n",
       "      <td>0</td>\n",
       "      <td>1/1/2021</td>\n",
       "      <td>ND</td>\n",
       "      <td>ND</td>\n",
       "      <td>ND</td>\n",
       "    </tr>\n",
       "    <tr>\n",
       "      <td>1</td>\n",
       "      <td>1/4/2021</td>\n",
       "      <td>1.3021</td>\n",
       "      <td>0.8152</td>\n",
       "      <td>0.7364</td>\n",
       "    </tr>\n",
       "    <tr>\n",
       "      <td>2</td>\n",
       "      <td>1/5/2021</td>\n",
       "      <td>1.2918</td>\n",
       "      <td>0.814</td>\n",
       "      <td>0.7348</td>\n",
       "    </tr>\n",
       "    <tr>\n",
       "      <td>3</td>\n",
       "      <td>1/6/2021</td>\n",
       "      <td>1.284</td>\n",
       "      <td>0.8124</td>\n",
       "      <td>0.7355</td>\n",
       "    </tr>\n",
       "    <tr>\n",
       "      <td>4</td>\n",
       "      <td>1/7/2021</td>\n",
       "      <td>1.2902</td>\n",
       "      <td>0.8151</td>\n",
       "      <td>0.737</td>\n",
       "    </tr>\n",
       "  </tbody>\n",
       "</table>\n",
       "</div>"
      ],
      "text/plain": [
       "  Time Series AUD_USD EUR_USD GBP_USD\n",
       "0    1/1/2021      ND      ND      ND\n",
       "1    1/4/2021  1.3021  0.8152  0.7364\n",
       "2    1/5/2021  1.2918   0.814  0.7348\n",
       "3    1/6/2021   1.284  0.8124  0.7355\n",
       "4    1/7/2021  1.2902  0.8151   0.737"
      ]
     },
     "execution_count": 3,
     "metadata": {},
     "output_type": "execute_result"
    }
   ],
   "source": [
    "df = df.drop(columns=df.columns[0])\n",
    "print(df.shape)\n",
    "df.head()"
   ]
  },
  {
   "cell_type": "code",
   "execution_count": 4,
   "metadata": {},
   "outputs": [
    {
     "name": "stdout",
     "output_type": "stream",
     "text": [
      "Number of NaN values in a column:  13\n"
     ]
    }
   ],
   "source": [
    "df.replace(to_replace='ND', value=np.nan, inplace=True)\n",
    "print(\"Number of NaN values in a column: \", df.isna().any(axis=1).sum())"
   ]
  },
  {
   "cell_type": "code",
   "execution_count": 5,
   "metadata": {},
   "outputs": [
    {
     "data": {
      "text/plain": [
       "Time Series    0\n",
       "AUD_USD        0\n",
       "EUR_USD        0\n",
       "GBP_USD        0\n",
       "dtype: int64"
      ]
     },
     "execution_count": 5,
     "metadata": {},
     "output_type": "execute_result"
    }
   ],
   "source": [
    "# Dropping all the NaN values at one go\n",
    "df = df.dropna().reset_index(drop=True)\n",
    "\n",
    "#Checking are there any NaN values are present or not\n",
    "df.isna().sum()"
   ]
  },
  {
   "cell_type": "code",
   "execution_count": 6,
   "metadata": {},
   "outputs": [
    {
     "data": {
      "text/plain": [
       "(249, 4)"
      ]
     },
     "execution_count": 6,
     "metadata": {},
     "output_type": "execute_result"
    }
   ],
   "source": [
    "df.shape"
   ]
  },
  {
   "cell_type": "code",
   "execution_count": 7,
   "metadata": {},
   "outputs": [
    {
     "data": {
      "text/plain": [
       "Time Series    object\n",
       "AUD_USD        object\n",
       "EUR_USD        object\n",
       "GBP_USD        object\n",
       "dtype: object"
      ]
     },
     "execution_count": 7,
     "metadata": {},
     "output_type": "execute_result"
    }
   ],
   "source": [
    "df.dtypes"
   ]
  },
  {
   "cell_type": "code",
   "execution_count": 8,
   "metadata": {},
   "outputs": [],
   "source": [
    "# Converting object data type to numeric for each column\n",
    "for col in df.columns[1:]:\n",
    "    df[col] = pd.to_numeric(df[col], errors='coerce')  # returns invalid value as NaN"
   ]
  },
  {
   "cell_type": "code",
   "execution_count": 9,
   "metadata": {},
   "outputs": [],
   "source": [
    "# appending 3 more coulmns as month,year and month_year\n",
    "df['Time Series'] = pd.to_datetime(df['Time Series'])\n",
    "df['month'] = df['Time Series'].dt.month\n",
    "df['year'] = df['Time Series'].dt.year\n",
    "df['month_year'] = df['Time Series'].dt.to_period('M')"
   ]
  },
  {
   "cell_type": "code",
   "execution_count": 10,
   "metadata": {},
   "outputs": [
    {
     "data": {
      "text/html": [
       "<div>\n",
       "<style scoped>\n",
       "    .dataframe tbody tr th:only-of-type {\n",
       "        vertical-align: middle;\n",
       "    }\n",
       "\n",
       "    .dataframe tbody tr th {\n",
       "        vertical-align: top;\n",
       "    }\n",
       "\n",
       "    .dataframe thead th {\n",
       "        text-align: right;\n",
       "    }\n",
       "</style>\n",
       "<table border=\"1\" class=\"dataframe\">\n",
       "  <thead>\n",
       "    <tr style=\"text-align: right;\">\n",
       "      <th></th>\n",
       "      <th>Time Series</th>\n",
       "      <th>AUD_USD</th>\n",
       "      <th>EUR_USD</th>\n",
       "      <th>GBP_USD</th>\n",
       "      <th>month</th>\n",
       "      <th>year</th>\n",
       "      <th>month_year</th>\n",
       "    </tr>\n",
       "  </thead>\n",
       "  <tbody>\n",
       "    <tr>\n",
       "      <td>0</td>\n",
       "      <td>2021-01-04</td>\n",
       "      <td>1.3021</td>\n",
       "      <td>0.8152</td>\n",
       "      <td>0.7364</td>\n",
       "      <td>1</td>\n",
       "      <td>2021</td>\n",
       "      <td>2021-01</td>\n",
       "    </tr>\n",
       "    <tr>\n",
       "      <td>1</td>\n",
       "      <td>2021-01-05</td>\n",
       "      <td>1.2918</td>\n",
       "      <td>0.8140</td>\n",
       "      <td>0.7348</td>\n",
       "      <td>1</td>\n",
       "      <td>2021</td>\n",
       "      <td>2021-01</td>\n",
       "    </tr>\n",
       "    <tr>\n",
       "      <td>2</td>\n",
       "      <td>2021-01-06</td>\n",
       "      <td>1.2840</td>\n",
       "      <td>0.8124</td>\n",
       "      <td>0.7355</td>\n",
       "      <td>1</td>\n",
       "      <td>2021</td>\n",
       "      <td>2021-01</td>\n",
       "    </tr>\n",
       "    <tr>\n",
       "      <td>3</td>\n",
       "      <td>2021-01-07</td>\n",
       "      <td>1.2902</td>\n",
       "      <td>0.8151</td>\n",
       "      <td>0.7370</td>\n",
       "      <td>1</td>\n",
       "      <td>2021</td>\n",
       "      <td>2021-01</td>\n",
       "    </tr>\n",
       "    <tr>\n",
       "      <td>4</td>\n",
       "      <td>2021-01-08</td>\n",
       "      <td>1.2880</td>\n",
       "      <td>0.8173</td>\n",
       "      <td>0.7365</td>\n",
       "      <td>1</td>\n",
       "      <td>2021</td>\n",
       "      <td>2021-01</td>\n",
       "    </tr>\n",
       "  </tbody>\n",
       "</table>\n",
       "</div>"
      ],
      "text/plain": [
       "  Time Series  AUD_USD  EUR_USD  GBP_USD  month  year month_year\n",
       "0  2021-01-04   1.3021   0.8152   0.7364      1  2021    2021-01\n",
       "1  2021-01-05   1.2918   0.8140   0.7348      1  2021    2021-01\n",
       "2  2021-01-06   1.2840   0.8124   0.7355      1  2021    2021-01\n",
       "3  2021-01-07   1.2902   0.8151   0.7370      1  2021    2021-01\n",
       "4  2021-01-08   1.2880   0.8173   0.7365      1  2021    2021-01"
      ]
     },
     "execution_count": 10,
     "metadata": {},
     "output_type": "execute_result"
    }
   ],
   "source": [
    "df.head()"
   ]
  },
  {
   "cell_type": "code",
   "execution_count": 11,
   "metadata": {},
   "outputs": [
    {
     "name": "stdout",
     "output_type": "stream",
     "text": [
      "Shape of Australia: 249\n",
      "Shape of European Union: 249\n",
      "Shape of United Kingdom: 249\n"
     ]
    }
   ],
   "source": [
    "print(\"Shape of Australia:\", df['AUD_USD'].count())\n",
    "print(\"Shape of European Union:\", df['EUR_USD'].count())\n",
    "print(\"Shape of United Kingdom:\", df['GBP_USD'].count())"
   ]
  },
  {
   "cell_type": "code",
   "execution_count": 12,
   "metadata": {},
   "outputs": [
    {
     "data": {
      "text/html": [
       "<div>\n",
       "<style scoped>\n",
       "    .dataframe tbody tr th:only-of-type {\n",
       "        vertical-align: middle;\n",
       "    }\n",
       "\n",
       "    .dataframe tbody tr th {\n",
       "        vertical-align: top;\n",
       "    }\n",
       "\n",
       "    .dataframe thead th {\n",
       "        text-align: right;\n",
       "    }\n",
       "</style>\n",
       "<table border=\"1\" class=\"dataframe\">\n",
       "  <thead>\n",
       "    <tr style=\"text-align: right;\">\n",
       "      <th></th>\n",
       "      <th>month_year</th>\n",
       "      <th>AUD_USD</th>\n",
       "    </tr>\n",
       "  </thead>\n",
       "  <tbody>\n",
       "    <tr>\n",
       "      <td>0</td>\n",
       "      <td>2021-01</td>\n",
       "      <td>1.294910</td>\n",
       "    </tr>\n",
       "    <tr>\n",
       "      <td>1</td>\n",
       "      <td>2021-02</td>\n",
       "      <td>1.290147</td>\n",
       "    </tr>\n",
       "    <tr>\n",
       "      <td>2</td>\n",
       "      <td>2021-03</td>\n",
       "      <td>1.298957</td>\n",
       "    </tr>\n",
       "    <tr>\n",
       "      <td>3</td>\n",
       "      <td>2021-04</td>\n",
       "      <td>1.298000</td>\n",
       "    </tr>\n",
       "    <tr>\n",
       "      <td>4</td>\n",
       "      <td>2021-05</td>\n",
       "      <td>1.289105</td>\n",
       "    </tr>\n",
       "    <tr>\n",
       "      <td>5</td>\n",
       "      <td>2021-06</td>\n",
       "      <td>1.307482</td>\n",
       "    </tr>\n",
       "    <tr>\n",
       "      <td>6</td>\n",
       "      <td>2021-07</td>\n",
       "      <td>1.348081</td>\n",
       "    </tr>\n",
       "    <tr>\n",
       "      <td>7</td>\n",
       "      <td>2021-08</td>\n",
       "      <td>1.369819</td>\n",
       "    </tr>\n",
       "    <tr>\n",
       "      <td>8</td>\n",
       "      <td>2021-09</td>\n",
       "      <td>1.366805</td>\n",
       "    </tr>\n",
       "    <tr>\n",
       "      <td>9</td>\n",
       "      <td>2021-10</td>\n",
       "      <td>1.349730</td>\n",
       "    </tr>\n",
       "    <tr>\n",
       "      <td>10</td>\n",
       "      <td>2021-11</td>\n",
       "      <td>1.369681</td>\n",
       "    </tr>\n",
       "    <tr>\n",
       "      <td>11</td>\n",
       "      <td>2021-12</td>\n",
       "      <td>1.397395</td>\n",
       "    </tr>\n",
       "  </tbody>\n",
       "</table>\n",
       "</div>"
      ],
      "text/plain": [
       "   month_year   AUD_USD\n",
       "0     2021-01  1.294910\n",
       "1     2021-02  1.290147\n",
       "2     2021-03  1.298957\n",
       "3     2021-04  1.298000\n",
       "4     2021-05  1.289105\n",
       "5     2021-06  1.307482\n",
       "6     2021-07  1.348081\n",
       "7     2021-08  1.369819\n",
       "8     2021-09  1.366805\n",
       "9     2021-10  1.349730\n",
       "10    2021-11  1.369681\n",
       "11    2021-12  1.397395"
      ]
     },
     "execution_count": 12,
     "metadata": {},
     "output_type": "execute_result"
    }
   ],
   "source": [
    "# Australia\n",
    "# Taking the average rate of each month, assuming mean represents the entire month\n",
    "df_groupby_aud_actual = df.groupby('month_year').AUD_USD.mean().reset_index()\n",
    "df_groupby_aud_actual"
   ]
  },
  {
   "cell_type": "code",
   "execution_count": 13,
   "metadata": {},
   "outputs": [
    {
     "data": {
      "image/png": "[encoded data removed]",
      "text/plain": [
       "<Figure size 576x288 with 1 Axes>"
      ]
     },
     "metadata": {
      "needs_background": "light"
     },
     "output_type": "display_data"
    }
   ],
   "source": [
    "# to visualize the pattern of AUD/USD\n",
    "x = df_groupby_aud_actual['month_year'].astype(str)\n",
    "y = df_groupby_aud_actual['AUD_USD']\n",
    "\n",
    "plt.figure(figsize=(8,4))\n",
    "plt.plot(x, y)\n",
    "plt.tick_params(axis='x',rotation=90)\n",
    "plt.tight_layout()\n",
    "plt.title(\"Exchange Rate: AUD/USD\")\n",
    "plt.xlabel(\"Month_Year\")\n",
    "plt.ylabel(\"Exchange Rates\")\n",
    "plt.grid(ls='--')\n",
    "plt.show()"
   ]
  },
  {
   "cell_type": "code",
   "execution_count": 14,
   "metadata": {},
   "outputs": [
    {
     "data": {
      "text/plain": [
       "array([1.29491   , 1.29014737, 1.29895652, 1.298     , 1.289105  ,\n",
       "       1.30748182, 1.34808095, 1.36981905, 1.366805  , 1.34973   ,\n",
       "       1.36968095, 1.39739524])"
      ]
     },
     "execution_count": 14,
     "metadata": {},
     "output_type": "execute_result"
    }
   ],
   "source": [
    "actual_aud = np.array(df_groupby_aud_actual['AUD_USD'])\n",
    "actual_aud"
   ]
  },
  {
   "cell_type": "code",
   "execution_count": 15,
   "metadata": {},
   "outputs": [
    {
     "data": {
      "text/plain": [
       "(12,)"
      ]
     },
     "execution_count": 15,
     "metadata": {},
     "output_type": "execute_result"
    }
   ],
   "source": [
    "actual_aud.shape"
   ]
  },
  {
   "cell_type": "code",
   "execution_count": 16,
   "metadata": {},
   "outputs": [
    {
     "name": "stdout",
     "output_type": "stream",
     "text": [
      "(12, 1, 1)\n"
     ]
    }
   ],
   "source": [
    "actual_aud = actual_aud.reshape(actual_aud.shape[0],1,1)\n",
    "print(actual_aud.shape)"
   ]
  },
  {
   "cell_type": "code",
   "execution_count": 17,
   "metadata": {},
   "outputs": [
    {
     "name": "stdout",
     "output_type": "stream",
     "text": [
      "[[1.2904894]\n",
      " [1.2855227]\n",
      " [1.2947117]\n",
      " [1.2937135]\n",
      " [1.2844361]\n",
      " [1.3036102]\n",
      " [1.3460926]\n",
      " [1.3689284]\n",
      " [1.3657587]\n",
      " [1.347823 ]\n",
      " [1.3687832]\n",
      " [1.3979858]]\n"
     ]
    },
    {
     "data": {
      "text/plain": [
       "(12, 1)"
      ]
     },
     "execution_count": 17,
     "metadata": {},
     "output_type": "execute_result"
    }
   ],
   "source": [
    "scaler.scale_\n",
    "\n",
    "forecast_aud = model_aud.predict(actual_aud)\n",
    "print(forecast_aud)\n",
    "forecast_aud.shape"
   ]
  },
  {
   "cell_type": "code",
   "execution_count": 18,
   "metadata": {},
   "outputs": [
    {
     "name": "stdout",
     "output_type": "stream",
     "text": [
      "[[1.29491   ]\n",
      " [1.29014737]\n",
      " [1.29895652]\n",
      " [1.298     ]\n",
      " [1.289105  ]\n",
      " [1.30748182]\n",
      " [1.34808095]\n",
      " [1.36981905]\n",
      " [1.366805  ]\n",
      " [1.34973   ]\n",
      " [1.36968095]\n",
      " [1.39739524]]\n"
     ]
    },
    {
     "data": {
      "text/plain": [
       "(12, 1)"
      ]
     },
     "execution_count": 18,
     "metadata": {},
     "output_type": "execute_result"
    }
   ],
   "source": [
    "actual_aud = np.array(actual_aud).reshape(-1,1)\n",
    "print(actual_aud)\n",
    "actual_aud.shape"
   ]
  },
  {
   "cell_type": "code",
   "execution_count": 19,
   "metadata": {},
   "outputs": [
    {
     "data": {
      "text/plain": [
       "array([1.2904894, 1.2855227, 1.2947117, 1.2937135, 1.2844361, 1.3036102,\n",
       "       1.3460926, 1.3689284, 1.3657587, 1.347823 , 1.3687832, 1.3979858],\n",
       "      dtype=float32)"
      ]
     },
     "execution_count": 19,
     "metadata": {},
     "output_type": "execute_result"
    }
   ],
   "source": [
    "forecast_aud = forecast_aud.flatten()\n",
    "forecast_aud"
   ]
  },
  {
   "cell_type": "code",
   "execution_count": 20,
   "metadata": {},
   "outputs": [
    {
     "data": {
      "text/plain": [
       "array([1.29491   , 1.29014737, 1.29895652, 1.298     , 1.289105  ,\n",
       "       1.30748182, 1.34808095, 1.36981905, 1.366805  , 1.34973   ,\n",
       "       1.36968095, 1.39739524])"
      ]
     },
     "execution_count": 20,
     "metadata": {},
     "output_type": "execute_result"
    }
   ],
   "source": [
    "actual_aud = actual_aud.flatten()\n",
    "actual_aud"
   ]
  },
  {
   "cell_type": "code",
   "execution_count": 21,
   "metadata": {},
   "outputs": [
    {
     "data": {
      "text/html": [
       "<div>\n",
       "<style scoped>\n",
       "    .dataframe tbody tr th:only-of-type {\n",
       "        vertical-align: middle;\n",
       "    }\n",
       "\n",
       "    .dataframe tbody tr th {\n",
       "        vertical-align: top;\n",
       "    }\n",
       "\n",
       "    .dataframe thead th {\n",
       "        text-align: right;\n",
       "    }\n",
       "</style>\n",
       "<table border=\"1\" class=\"dataframe\">\n",
       "  <thead>\n",
       "    <tr style=\"text-align: right;\">\n",
       "      <th></th>\n",
       "      <th>month_year</th>\n",
       "      <th>Actual Rates</th>\n",
       "      <th>Forecast Rates</th>\n",
       "    </tr>\n",
       "  </thead>\n",
       "  <tbody>\n",
       "    <tr>\n",
       "      <td>0</td>\n",
       "      <td>2021-01</td>\n",
       "      <td>1.294910</td>\n",
       "      <td>1.290489</td>\n",
       "    </tr>\n",
       "    <tr>\n",
       "      <td>1</td>\n",
       "      <td>2021-02</td>\n",
       "      <td>1.290147</td>\n",
       "      <td>1.285523</td>\n",
       "    </tr>\n",
       "    <tr>\n",
       "      <td>2</td>\n",
       "      <td>2021-03</td>\n",
       "      <td>1.298957</td>\n",
       "      <td>1.294712</td>\n",
       "    </tr>\n",
       "    <tr>\n",
       "      <td>3</td>\n",
       "      <td>2021-04</td>\n",
       "      <td>1.298000</td>\n",
       "      <td>1.293713</td>\n",
       "    </tr>\n",
       "    <tr>\n",
       "      <td>4</td>\n",
       "      <td>2021-05</td>\n",
       "      <td>1.289105</td>\n",
       "      <td>1.284436</td>\n",
       "    </tr>\n",
       "    <tr>\n",
       "      <td>5</td>\n",
       "      <td>2021-06</td>\n",
       "      <td>1.307482</td>\n",
       "      <td>1.303610</td>\n",
       "    </tr>\n",
       "    <tr>\n",
       "      <td>6</td>\n",
       "      <td>2021-07</td>\n",
       "      <td>1.348081</td>\n",
       "      <td>1.346093</td>\n",
       "    </tr>\n",
       "    <tr>\n",
       "      <td>7</td>\n",
       "      <td>2021-08</td>\n",
       "      <td>1.369819</td>\n",
       "      <td>1.368928</td>\n",
       "    </tr>\n",
       "    <tr>\n",
       "      <td>8</td>\n",
       "      <td>2021-09</td>\n",
       "      <td>1.366805</td>\n",
       "      <td>1.365759</td>\n",
       "    </tr>\n",
       "    <tr>\n",
       "      <td>9</td>\n",
       "      <td>2021-10</td>\n",
       "      <td>1.349730</td>\n",
       "      <td>1.347823</td>\n",
       "    </tr>\n",
       "    <tr>\n",
       "      <td>10</td>\n",
       "      <td>2021-11</td>\n",
       "      <td>1.369681</td>\n",
       "      <td>1.368783</td>\n",
       "    </tr>\n",
       "    <tr>\n",
       "      <td>11</td>\n",
       "      <td>2021-12</td>\n",
       "      <td>1.397395</td>\n",
       "      <td>1.397986</td>\n",
       "    </tr>\n",
       "  </tbody>\n",
       "</table>\n",
       "</div>"
      ],
      "text/plain": [
       "   month_year  Actual Rates  Forecast Rates\n",
       "0     2021-01      1.294910        1.290489\n",
       "1     2021-02      1.290147        1.285523\n",
       "2     2021-03      1.298957        1.294712\n",
       "3     2021-04      1.298000        1.293713\n",
       "4     2021-05      1.289105        1.284436\n",
       "5     2021-06      1.307482        1.303610\n",
       "6     2021-07      1.348081        1.346093\n",
       "7     2021-08      1.369819        1.368928\n",
       "8     2021-09      1.366805        1.365759\n",
       "9     2021-10      1.349730        1.347823\n",
       "10    2021-11      1.369681        1.368783\n",
       "11    2021-12      1.397395        1.397986"
      ]
     },
     "execution_count": 21,
     "metadata": {},
     "output_type": "execute_result"
    }
   ],
   "source": [
    "df_groupby_aud_actual['Forecast'] = forecast_aud.tolist()\n",
    "df_aud_usd = df_groupby_aud_actual.rename(columns={'AUD_USD':'Actual Rates', 'Forecast': 'Forecast Rates'})\n",
    "df_aud_usd"
   ]
  },
  {
   "cell_type": "code",
   "execution_count": 22,
   "metadata": {},
   "outputs": [
    {
     "data": {
      "text/plain": [
       "<matplotlib.legend.Legend at 0x167e3673e48>"
      ]
     },
     "execution_count": 22,
     "metadata": {},
     "output_type": "execute_result"
    },
    {
     "data": {
      "image/png": "[encoded data removed]",
      "text/plain": [
       "<Figure size 720x360 with 1 Axes>"
      ]
     },
     "metadata": {
      "needs_background": "light"
     },
     "output_type": "display_data"
    }
   ],
   "source": [
    "plt.figure(figsize=(10,5))\n",
    "plt.title('Actual vs Forecast Data of 2021 for Australia')\n",
    "plt.plot(actual_aud , label = 'Actual', color = 'g')\n",
    "plt.plot(forecast_aud , label = 'Forecast', color = 'r')\n",
    "plt.legend()"
   ]
  },
  {
   "cell_type": "code",
   "execution_count": 28,
   "metadata": {},
   "outputs": [
    {
     "data": {
      "image/png": "[encoded data removed]",
      "text/plain": [
       "<Figure size 1152x576 with 1 Axes>"
      ]
     },
     "metadata": {
      "needs_background": "light"
     },
     "output_type": "display_data"
    }
   ],
   "source": [
    "df_aud_usd.plot(x='month_year', y=['Actual Rates', 'Forecast Rates'], kind='bar',figsize=(16,8), \n",
    "                title='Actual vs Forecast Data of 2021')\n",
    "plt.show()"
   ]
  },
  {
   "cell_type": "code",
   "execution_count": 25,
   "metadata": {},
   "outputs": [],
   "source": [
    "def forecast_accuracy(actual, forecast):\n",
    "    \n",
    "    mape = np.mean(np.abs(forecast-actual)/np.abs(actual)) #MAPE\n",
    "    me = np.mean(forecast-actual) #ME\n",
    "    mae = np.mean(np.abs(forecast-actual)) #MAE\n",
    "    mpe = np.mean((forecast-actual)/actual) #MPE\n",
    "    rmse = np.mean((forecast-actual)**2)**.5 #RMSE\n",
    "    mins = np.amin(np.hstack([forecast[:,None], actual[:,None]]),axis=1)\n",
    "    maxs = np.amax(np.hstack([forecast[:,None], actual[:,None]]), axis=1)\n",
    "    minmax = 1 - np.mean(mins/maxs)   # minmax\n",
    "    accuracy = (1-mape)*100\n",
    "    return ({'mape':mape, 'me':me, 'mae':mae, 'mpe':mpe, 'rmse':rmse, 'minmax':minmax, 'Overall accuracy':accuracy})"
   ]
  },
  {
   "cell_type": "code",
   "execution_count": 26,
   "metadata": {},
   "outputs": [
    {
     "data": {
      "text/html": [
       "<div>\n",
       "<style scoped>\n",
       "    .dataframe tbody tr th:only-of-type {\n",
       "        vertical-align: middle;\n",
       "    }\n",
       "\n",
       "    .dataframe tbody tr th {\n",
       "        vertical-align: top;\n",
       "    }\n",
       "\n",
       "    .dataframe thead th {\n",
       "        text-align: right;\n",
       "    }\n",
       "</style>\n",
       "<table border=\"1\" class=\"dataframe\">\n",
       "  <thead>\n",
       "    <tr style=\"text-align: right;\">\n",
       "      <th></th>\n",
       "      <th>Values</th>\n",
       "    </tr>\n",
       "  </thead>\n",
       "  <tbody>\n",
       "    <tr>\n",
       "      <td>mape</td>\n",
       "      <td>0.002128</td>\n",
       "    </tr>\n",
       "    <tr>\n",
       "      <td>me</td>\n",
       "      <td>-0.002688</td>\n",
       "    </tr>\n",
       "    <tr>\n",
       "      <td>mae</td>\n",
       "      <td>0.002786</td>\n",
       "    </tr>\n",
       "    <tr>\n",
       "      <td>mpe</td>\n",
       "      <td>-0.002057</td>\n",
       "    </tr>\n",
       "    <tr>\n",
       "      <td>rmse</td>\n",
       "      <td>0.003224</td>\n",
       "    </tr>\n",
       "    <tr>\n",
       "      <td>minmax</td>\n",
       "      <td>0.002128</td>\n",
       "    </tr>\n",
       "    <tr>\n",
       "      <td>Overall accuracy</td>\n",
       "      <td>99.787223</td>\n",
       "    </tr>\n",
       "  </tbody>\n",
       "</table>\n",
       "</div>"
      ],
      "text/plain": [
       "                     Values\n",
       "mape               0.002128\n",
       "me                -0.002688\n",
       "mae                0.002786\n",
       "mpe               -0.002057\n",
       "rmse               0.003224\n",
       "minmax             0.002128\n",
       "Overall accuracy  99.787223"
      ]
     },
     "execution_count": 26,
     "metadata": {},
     "output_type": "execute_result"
    }
   ],
   "source": [
    "accuracy = forecast_accuracy(actual_aud, forecast_aud)\n",
    "accuracy_data = pd.DataFrame.from_dict(accuracy, orient='index', columns={'Values'})\n",
    "accuracy_data"
   ]
  },
  {
   "cell_type": "code",
   "execution_count": null,
   "metadata": {},
   "outputs": [],
   "source": []
  },
  {
   "cell_type": "code",
   "execution_count": null,
   "metadata": {},
   "outputs": [],
   "source": []
  }
 ],
 "metadata": {
  "kernelspec": {
   "display_name": "Python 3 (ipykernel)",
   "language": "python",
   "name": "python3"
  },
  "language_info": {
   "codemirror_mode": {
    "name": "ipython",
    "version": 3
   },
   "file_extension": ".py",
   "mimetype": "text/x-python",
   "name": "python",
   "nbconvert_exporter": "python",
   "pygments_lexer": "ipython3",
   "version": "3.8.12"
  }
 },
 "nbformat": 4,
 "nbformat_minor": 2
}
